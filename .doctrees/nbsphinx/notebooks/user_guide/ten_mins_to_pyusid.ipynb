{
 "cells": [
  {
   "cell_type": "code",
   "execution_count": 1,
   "metadata": {
    "execution": {
     "iopub.execute_input": "2025-03-07T22:01:44.648892Z",
     "iopub.status.busy": "2025-03-07T22:01:44.648476Z",
     "iopub.status.idle": "2025-03-07T22:01:45.035481Z",
     "shell.execute_reply": "2025-03-07T22:01:45.034847Z"
    }
   },
   "outputs": [],
   "source": [
    "%matplotlib inline"
   ]
  },
  {
   "cell_type": "markdown",
   "metadata": {},
   "source": [
    "\n",
    "# pyUSID in 10 minutes\n",
    "\n",
    "**Rajiv Giridharagopal (University of Washington)**\n",
    "\n",
    "4/24/2020\n",
    "\n",
    "**This document serves as a quick primer to the essential components of\n",
    "pyUSID**\n",
    "\n",
    "\n",
    "## Recommended pre-requisite reading\n",
    "* [Universal Spectroscopic and Imaging Data (USID) model](https://pycroscopy.github.io/USID/usid_model.html)\n",
    "* [Crash course on HDF5 and h5py](./h5py_primer.html)"
   ]
  },
  {
   "cell_type": "code",
   "execution_count": 2,
   "metadata": {
    "execution": {
     "iopub.execute_input": "2025-03-07T22:01:45.037965Z",
     "iopub.status.busy": "2025-03-07T22:01:45.037701Z",
     "iopub.status.idle": "2025-03-07T22:01:45.947393Z",
     "shell.execute_reply": "2025-03-07T22:01:45.946773Z"
    }
   },
   "outputs": [],
   "source": [
    "import sidpy\n",
    "import pyUSID as usid\n",
    "import numpy as np\n",
    "import h5py"
   ]
  },
  {
   "cell_type": "markdown",
   "metadata": {},
   "source": [
    "### Converting a 3D Matrix to USID\n",
    "\n",
    "As an example of how to use pyUSID to reformat data for analysis, let's take\n",
    "an image with some time-series at each pixel\n",
    "Let's imagine we have a 10 x 10 array that measures the height. But we're applying\n",
    "a voltage to oscillate the height at 2 Hz for 1 second, with 10 Hz sampling and a\n",
    "slight phase shift and amplitude shift at each pixel.\n",
    "\n",
    "In other words, a 10 x 10 x 100 array\n",
    "\n"
   ]
  },
  {
   "cell_type": "code",
   "execution_count": 3,
   "metadata": {
    "execution": {
     "iopub.execute_input": "2025-03-07T22:01:45.950022Z",
     "iopub.status.busy": "2025-03-07T22:01:45.949468Z",
     "iopub.status.idle": "2025-03-07T22:01:46.282724Z",
     "shell.execute_reply": "2025-03-07T22:01:46.281979Z"
    }
   },
   "outputs": [
    {
     "data": {
      "image/png": "[encoded data removed]",
      "text/plain": [
       "<Figure size 2000x400 with 8 Axes>"
      ]
     },
     "metadata": {},
     "output_type": "display_data"
    }
   ],
   "source": [
    "# Create some data\n",
    "data = np.zeros((10,10,100))\n",
    "phase = np.reshape(np.linspace(-np.pi, np.pi, 100), [10,10])\n",
    "amp = np.reshape(np.linspace(1, 5, 100), [10,10])\n",
    "for x in np.arange(0,100):\n",
    "    for r in np.arange(data.shape[0]):\n",
    "        for c in np.arange(data.shape[1]):\n",
    "            data[r,c,x] = amp[r][c] * np.sin(2*np.pi * 2*x/100 + phase[r][c]) \n",
    "\n",
    "# To visualize a 3D stack, there's a handy function in sidpy\n",
    "_ = sidpy.plot_utils.plot_map_stack(data, num_comps=4, fig_mult=(2,10), pad_mult=(0.01,.4));"
   ]
  },
  {
   "cell_type": "markdown",
   "metadata": {},
   "source": [
    "Instead of being 3D, we need it to be (10x10, 100) in 2D for USID. \n",
    "First, let's define the position dimensions, which are 10 x 10 nm\n",
    "\n"
   ]
  },
  {
   "cell_type": "code",
   "execution_count": 4,
   "metadata": {
    "execution": {
     "iopub.execute_input": "2025-03-07T22:01:46.284947Z",
     "iopub.status.busy": "2025-03-07T22:01:46.284516Z",
     "iopub.status.idle": "2025-03-07T22:01:46.289304Z",
     "shell.execute_reply": "2025-03-07T22:01:46.288763Z"
    }
   },
   "outputs": [],
   "source": [
    "pos = usid.hdf_utils.build_ind_val_matrices([np.arange(0,10e-9, 1e-9), np.arange(0,10e-9, 1e-9)], \n",
    "                                             is_spectral=False)\n",
    "\n",
    "# pos[0] are the indices (0,1,2...), pos[1] are the values (0,1e-9, 2e-9...)\n",
    "# Second, let's define he spectral dimensions, which is our 1 s long waveform\n",
    "spec = usid.hdf_utils.build_ind_val_matrices([np.arange(0,1,0.01)], is_spectral=True)\n",
    "\n",
    "# Finally, we make our USID-compatible dataset, which is now (100, 100)\n",
    "data_reshape, _ = usid.hdf_utils.reshape_from_n_dims(data, pos[0], spec[0])"
   ]
  },
  {
   "cell_type": "markdown",
   "metadata": {},
   "source": [
    "### Creating a USID Dataset \n",
    "\n",
    "Now that we have a USID-compatible dataset, we're almost there\n",
    "Let's actually create the USID dataset\n",
    "\n"
   ]
  },
  {
   "cell_type": "code",
   "execution_count": 5,
   "metadata": {
    "execution": {
     "iopub.execute_input": "2025-03-07T22:01:46.291306Z",
     "iopub.status.busy": "2025-03-07T22:01:46.290926Z",
     "iopub.status.idle": "2025-03-07T22:01:46.322849Z",
     "shell.execute_reply": "2025-03-07T22:01:46.322290Z"
    }
   },
   "outputs": [
    {
     "name": "stderr",
     "output_type": "stream",
     "text": [
      "/opt/hostedtoolcache/Python/3.9.21/x64/lib/python3.9/site-packages/sidpy/sid/translator.py:42: FutureWarning: Consider using sidpy.Reader instead of sidpy.Translator if possible and contribute your reader to ScopeReaders\n",
      "  warn('Consider using sidpy.Reader instead of sidpy.Translator if '\n",
      "/opt/hostedtoolcache/Python/3.9.21/x64/lib/python3.9/site-packages/pyUSID/io/hdf_utils/simple.py:1072: UserWarning: In the future write_ind_val_dsets will default to requiring dimensions to be arranged from slowest to fastest varying\n",
      "  warn('In the future write_ind_val_dsets will default to requiring dimensions to be arranged from slowest to fastest varying')\n",
      "/opt/hostedtoolcache/Python/3.9.21/x64/lib/python3.9/site-packages/pyUSID/io/hdf_utils/simple.py:1129: UserWarning: pyUSID.io.hdf_utils.simple.write_ind_val_dsets no longer createsregion references for each dimension. Please use pyUSID.io.reg_ref.write_region_references to manually create region references\n",
      "  warn('pyUSID.io.hdf_utils.simple.write_ind_val_dsets no longer creates'\n"
     ]
    },
    {
     "data": {
      "text/plain": [
       "'cookbook_data.h5'"
      ]
     },
     "execution_count": 5,
     "metadata": {},
     "output_type": "execute_result"
    }
   ],
   "source": [
    "# Use the USID Dimension to define the dimensions directly, including the units\n",
    "pos_dims = [usid.Dimension('Rows', 'm', np.arange(0,10e-9, 1e-9)),\n",
    "            usid.Dimension('Cols', 'm', np.arange(0,10e-9, 1e-9))]\n",
    "\n",
    "spec_dims = [usid.Dimension('Time', 's', np.arange(0,1,0.01))]\n",
    "\n",
    "# Use the ArrayTranslator to create our file\n",
    "# Let's define our HDF55 file. This is the name of a file we'll write into\n",
    "h5_path = 'cookbook_data.h5'\n",
    "\n",
    "# Now let's use the ArrayTranslator to write our data to an HDF5 file\n",
    "tran = usid.io.numpy_translator.ArrayTranslator()\n",
    "tran.translate(h5_path, 'data', data_reshape, 'Height', 'm',\n",
    "               pos_dims, spec_dims)"
   ]
  },
  {
   "cell_type": "markdown",
   "metadata": {},
   "source": [
    "That's it! We're done. It's just a few lines of code to convert a random matrix\n",
    "of data into a USID format. We just need to know a little about our data.\n",
    "Now that our cookbook_data is full of delicious data, let's crack it open.\n",
    "\n",
    "We can open the file by using the h5py command\n",
    "\n"
   ]
  },
  {
   "cell_type": "code",
   "execution_count": 6,
   "metadata": {
    "execution": {
     "iopub.execute_input": "2025-03-07T22:01:46.324698Z",
     "iopub.status.busy": "2025-03-07T22:01:46.324495Z",
     "iopub.status.idle": "2025-03-07T22:01:46.327930Z",
     "shell.execute_reply": "2025-03-07T22:01:46.327405Z"
    }
   },
   "outputs": [],
   "source": [
    "h5_file = h5py.File(h5_path, mode='r+')"
   ]
  },
  {
   "cell_type": "markdown",
   "metadata": {},
   "source": [
    "``print_tree`` shows all the contents in this HDF5 file\n",
    "\n"
   ]
  },
  {
   "cell_type": "code",
   "execution_count": 7,
   "metadata": {
    "execution": {
     "iopub.execute_input": "2025-03-07T22:01:46.329701Z",
     "iopub.status.busy": "2025-03-07T22:01:46.329488Z",
     "iopub.status.idle": "2025-03-07T22:01:46.334061Z",
     "shell.execute_reply": "2025-03-07T22:01:46.333523Z"
    }
   },
   "outputs": [
    {
     "name": "stdout",
     "output_type": "stream",
     "text": [
      "/\n",
      "Measurement_000\n",
      "Measurement_000/Channel_000\n",
      "Measurement_000/Channel_000/Position_Indices\n",
      "Measurement_000/Channel_000/Position_Values\n",
      "Measurement_000/Channel_000/Raw_Data\n",
      "Measurement_000/Channel_000/Spectroscopic_Indices\n",
      "Measurement_000/Channel_000/Spectroscopic_Values\n"
     ]
    }
   ],
   "source": [
    "sidpy.hdf_utils.print_tree(h5_file, rel_paths=True)"
   ]
  },
  {
   "cell_type": "markdown",
   "metadata": {},
   "source": [
    "Our data are in the ``Raw_Data`` dataset. How do we extract our data?\n",
    "First let's print all the Main datasets\n",
    "\n"
   ]
  },
  {
   "cell_type": "code",
   "execution_count": 8,
   "metadata": {
    "execution": {
     "iopub.execute_input": "2025-03-07T22:01:46.335901Z",
     "iopub.status.busy": "2025-03-07T22:01:46.335708Z",
     "iopub.status.idle": "2025-03-07T22:01:46.351663Z",
     "shell.execute_reply": "2025-03-07T22:01:46.351093Z"
    }
   },
   "outputs": [
    {
     "name": "stdout",
     "output_type": "stream",
     "text": [
      "[<HDF5 dataset \"Raw_Data\": shape (100, 100), type \"<f8\">\n",
      "located at: \n",
      "\t/Measurement_000/Channel_000/Raw_Data \n",
      "Data contains: \n",
      "\tHeight (m) \n",
      "Data dimensions and original shape: \n",
      "Position Dimensions: \n",
      "\tCols - size: 10 \n",
      "\tRows - size: 10 \n",
      "Spectroscopic Dimensions: \n",
      "\tTime - size: 100\n",
      "Data Type:\n",
      "\tfloat64]\n"
     ]
    }
   ],
   "source": [
    "print(usid.hdf_utils.get_all_main(h5_file))"
   ]
  },
  {
   "cell_type": "markdown",
   "metadata": {},
   "source": [
    "This is a list of all the Main datasets. In this case there's only a single one. \n",
    "So we can access our data in two ways:\n",
    "\n"
   ]
  },
  {
   "cell_type": "code",
   "execution_count": 9,
   "metadata": {
    "execution": {
     "iopub.execute_input": "2025-03-07T22:01:46.353461Z",
     "iopub.status.busy": "2025-03-07T22:01:46.353264Z",
     "iopub.status.idle": "2025-03-07T22:01:46.369309Z",
     "shell.execute_reply": "2025-03-07T22:01:46.368821Z"
    }
   },
   "outputs": [],
   "source": [
    "# Option 1:\n",
    "# Access a specific dataset in the list of Main datasets\n",
    "data_usid = usid.hdf_utils.get_all_main(h5_file)[0]\n",
    "\n",
    "# Option 2:\n",
    "# We could highlight the path in the tree and access it directly\n",
    "data_usid = h5_file['Measurement_000/Channel_000/Raw_Data']"
   ]
  },
  {
   "cell_type": "markdown",
   "metadata": {},
   "source": [
    "Note that reading the dataset in this manual manner only gives us the\n",
    "standard ``h5py.Dataset``:\n",
    "\n"
   ]
  },
  {
   "cell_type": "code",
   "execution_count": 10,
   "metadata": {
    "execution": {
     "iopub.execute_input": "2025-03-07T22:01:46.371126Z",
     "iopub.status.busy": "2025-03-07T22:01:46.370931Z",
     "iopub.status.idle": "2025-03-07T22:01:46.374447Z",
     "shell.execute_reply": "2025-03-07T22:01:46.373914Z"
    }
   },
   "outputs": [
    {
     "name": "stdout",
     "output_type": "stream",
     "text": [
      "<HDF5 dataset \"Raw_Data\": shape (100, 100), type \"<f8\">\n"
     ]
    }
   ],
   "source": [
    "print(data_usid)"
   ]
  },
  {
   "cell_type": "markdown",
   "metadata": {},
   "source": [
    "Lastly, let's upgrade from ``h5py.Dataset`` to a ``USIDataset``\n",
    "\n"
   ]
  },
  {
   "cell_type": "code",
   "execution_count": 11,
   "metadata": {
    "execution": {
     "iopub.execute_input": "2025-03-07T22:01:46.376217Z",
     "iopub.status.busy": "2025-03-07T22:01:46.376025Z",
     "iopub.status.idle": "2025-03-07T22:01:46.388829Z",
     "shell.execute_reply": "2025-03-07T22:01:46.388255Z"
    }
   },
   "outputs": [
    {
     "name": "stdout",
     "output_type": "stream",
     "text": [
      "<HDF5 dataset \"Raw_Data\": shape (100, 100), type \"<f8\">\n",
      "located at: \n",
      "\t/Measurement_000/Channel_000/Raw_Data \n",
      "Data contains: \n",
      "\tHeight (m) \n",
      "Data dimensions and original shape: \n",
      "Position Dimensions: \n",
      "\tCols - size: 10 \n",
      "\tRows - size: 10 \n",
      "Spectroscopic Dimensions: \n",
      "\tTime - size: 100\n",
      "Data Type:\n",
      "\tfloat64\n"
     ]
    }
   ],
   "source": [
    "data_usid = usid.USIDataset(data_usid)\n",
    "print(data_usid)"
   ]
  },
  {
   "cell_type": "markdown",
   "metadata": {},
   "source": [
    "### Exploring a USID Dataset\n",
    "\n",
    "There are lots of advantages to this kind of dataset\n",
    "\n"
   ]
  },
  {
   "cell_type": "code",
   "execution_count": 12,
   "metadata": {
    "execution": {
     "iopub.execute_input": "2025-03-07T22:01:46.390834Z",
     "iopub.status.busy": "2025-03-07T22:01:46.390455Z",
     "iopub.status.idle": "2025-03-07T22:01:46.517131Z",
     "shell.execute_reply": "2025-03-07T22:01:46.516457Z"
    }
   },
   "outputs": [
    {
     "data": {
      "image/png": "[encoded data removed]",
      "text/plain": [
       "<Figure size 640x480 with 1 Axes>"
      ]
     },
     "metadata": {},
     "output_type": "display_data"
    }
   ],
   "source": [
    "# Let's take a look via the handy visualize option\n",
    "# What is the signal vs time at pixel (5,3)\n",
    "_, _ = data_usid.visualize(slice_dict={'Rows': 5, 'Cols': 3})"
   ]
  },
  {
   "cell_type": "markdown",
   "metadata": {},
   "source": [
    "To access our data in the HDF5 dataset directly, we can use the ``[()]`` shortcut\n",
    "\n"
   ]
  },
  {
   "cell_type": "code",
   "execution_count": 13,
   "metadata": {
    "execution": {
     "iopub.execute_input": "2025-03-07T22:01:46.519383Z",
     "iopub.status.busy": "2025-03-07T22:01:46.519015Z",
     "iopub.status.idle": "2025-03-07T22:01:46.522880Z",
     "shell.execute_reply": "2025-03-07T22:01:46.522239Z"
    }
   },
   "outputs": [
    {
     "name": "stdout",
     "output_type": "stream",
     "text": [
      "<class 'numpy.ndarray'>\n",
      "(100, 100)\n"
     ]
    }
   ],
   "source": [
    "two_dim_form = data_usid[()]\n",
    "print(type(two_dim_form))\n",
    "print(two_dim_form.shape)"
   ]
  },
  {
   "cell_type": "markdown",
   "metadata": {},
   "source": [
    "Given that we are working on 3D dataset, we want reshape the flattened data\n",
    "present in the HDF5 dataset back to the original form of (10,10,100)\n",
    "\n"
   ]
  },
  {
   "cell_type": "code",
   "execution_count": 14,
   "metadata": {
    "execution": {
     "iopub.execute_input": "2025-03-07T22:01:46.524724Z",
     "iopub.status.busy": "2025-03-07T22:01:46.524524Z",
     "iopub.status.idle": "2025-03-07T22:01:46.529255Z",
     "shell.execute_reply": "2025-03-07T22:01:46.528704Z"
    }
   },
   "outputs": [
    {
     "name": "stdout",
     "output_type": "stream",
     "text": [
      "<class 'numpy.ndarray'>\n",
      "(10, 10, 100)\n"
     ]
    }
   ],
   "source": [
    "n_dim_form = data_usid.get_n_dim_form()\n",
    "print(type(n_dim_form))\n",
    "print(n_dim_form.shape)"
   ]
  },
  {
   "cell_type": "markdown",
   "metadata": {},
   "source": [
    "What are the properties of our data?\n",
    "\n"
   ]
  },
  {
   "cell_type": "code",
   "execution_count": 15,
   "metadata": {
    "execution": {
     "iopub.execute_input": "2025-03-07T22:01:46.531306Z",
     "iopub.status.busy": "2025-03-07T22:01:46.530969Z",
     "iopub.status.idle": "2025-03-07T22:01:46.537398Z",
     "shell.execute_reply": "2025-03-07T22:01:46.536886Z"
    }
   },
   "outputs": [
    {
     "name": "stdout",
     "output_type": "stream",
     "text": [
      "Rows = \n",
      "[0.e+00 1.e-09 2.e-09 3.e-09 4.e-09 5.e-09 6.e-09 7.e-09 8.e-09 9.e-09]\n",
      "Cols = \n",
      "[0.e+00 1.e-09 2.e-09 3.e-09 4.e-09 5.e-09 6.e-09 7.e-09 8.e-09 9.e-09]\n",
      "Time = \n",
      "[0.   0.01 0.02 0.03 0.04 0.05 0.06 0.07 0.08 0.09 0.1  0.11 0.12 0.13\n",
      " 0.14 0.15 0.16 0.17 0.18 0.19 0.2  0.21 0.22 0.23 0.24 0.25 0.26 0.27\n",
      " 0.28 0.29 0.3  0.31 0.32 0.33 0.34 0.35 0.36 0.37 0.38 0.39 0.4  0.41\n",
      " 0.42 0.43 0.44 0.45 0.46 0.47 0.48 0.49 0.5  0.51 0.52 0.53 0.54 0.55\n",
      " 0.56 0.57 0.58 0.59 0.6  0.61 0.62 0.63 0.64 0.65 0.66 0.67 0.68 0.69\n",
      " 0.7  0.71 0.72 0.73 0.74 0.75 0.76 0.77 0.78 0.79 0.8  0.81 0.82 0.83\n",
      " 0.84 0.85 0.86 0.87 0.88 0.89 0.9  0.91 0.92 0.93 0.94 0.95 0.96 0.97\n",
      " 0.98 0.99]\n"
     ]
    }
   ],
   "source": [
    "print('Rows = \\n{}'.format(data_usid.get_pos_values('Rows')))\n",
    "print('Cols = \\n{}'.format(data_usid.get_pos_values('Cols')))\n",
    "print('Time = \\n{}'.format(data_usid.get_spec_values('Time')))"
   ]
  },
  {
   "cell_type": "markdown",
   "metadata": {},
   "source": [
    "Attributes of the data when it was written\n",
    "\n"
   ]
  },
  {
   "cell_type": "code",
   "execution_count": 16,
   "metadata": {
    "execution": {
     "iopub.execute_input": "2025-03-07T22:01:46.539300Z",
     "iopub.status.busy": "2025-03-07T22:01:46.538952Z",
     "iopub.status.idle": "2025-03-07T22:01:46.545069Z",
     "shell.execute_reply": "2025-03-07T22:01:46.544511Z"
    }
   },
   "outputs": [
    {
     "data": {
      "text/plain": [
       "{'Position_Indices': <HDF5 object reference>,\n",
       " 'Position_Values': <HDF5 object reference>,\n",
       " 'Spectroscopic_Indices': <HDF5 object reference>,\n",
       " 'Spectroscopic_Values': <HDF5 object reference>,\n",
       " 'machine_id': 'fv-az1691-747',\n",
       " 'platform': 'Linux-6.8.0-1021-azure-x86_64-with-glibc2.39',\n",
       " 'pyUSID_version': '0.0.12',\n",
       " 'quantity': 'Height',\n",
       " 'sidpy_version': '0.12.6',\n",
       " 'timestamp': '2025_03_07-22_01_46',\n",
       " 'units': 'm'}"
      ]
     },
     "execution_count": 16,
     "metadata": {},
     "output_type": "execute_result"
    }
   ],
   "source": [
    "sidpy.hdf_utils.get_attributes(data_usid)"
   ]
  },
  {
   "cell_type": "markdown",
   "metadata": {},
   "source": [
    "To get the path of the Main dataset within the HDF5 file\n",
    "\n"
   ]
  },
  {
   "cell_type": "code",
   "execution_count": 17,
   "metadata": {
    "execution": {
     "iopub.execute_input": "2025-03-07T22:01:46.546913Z",
     "iopub.status.busy": "2025-03-07T22:01:46.546722Z",
     "iopub.status.idle": "2025-03-07T22:01:46.550177Z",
     "shell.execute_reply": "2025-03-07T22:01:46.549629Z"
    }
   },
   "outputs": [
    {
     "name": "stdout",
     "output_type": "stream",
     "text": [
      "/Measurement_000/Channel_000/Raw_Data\n"
     ]
    }
   ],
   "source": [
    "print(data_usid.name)"
   ]
  },
  {
   "cell_type": "markdown",
   "metadata": {},
   "source": [
    "And to get the parent folder of this Dataset, you use\n",
    "\n"
   ]
  },
  {
   "cell_type": "code",
   "execution_count": 18,
   "metadata": {
    "execution": {
     "iopub.execute_input": "2025-03-07T22:01:46.552176Z",
     "iopub.status.busy": "2025-03-07T22:01:46.551796Z",
     "iopub.status.idle": "2025-03-07T22:01:46.555419Z",
     "shell.execute_reply": "2025-03-07T22:01:46.554875Z"
    }
   },
   "outputs": [
    {
     "name": "stdout",
     "output_type": "stream",
     "text": [
      "/Measurement_000/Channel_000\n"
     ]
    }
   ],
   "source": [
    "print(data_usid.parent.name)"
   ]
  },
  {
   "cell_type": "markdown",
   "metadata": {},
   "source": [
    "### Adding some new data\n",
    "\n",
    "Let's say we process our data using some method and want to save that process.\n",
    "For the sake of argument, we'll just make a matrix that's the  magnitude^2\n",
    "\n"
   ]
  },
  {
   "cell_type": "code",
   "execution_count": 19,
   "metadata": {
    "execution": {
     "iopub.execute_input": "2025-03-07T22:01:46.557221Z",
     "iopub.status.busy": "2025-03-07T22:01:46.557041Z",
     "iopub.status.idle": "2025-03-07T22:01:46.560362Z",
     "shell.execute_reply": "2025-03-07T22:01:46.559856Z"
    }
   },
   "outputs": [],
   "source": [
    "data_proc = np.array(data_usid[()]**2)"
   ]
  },
  {
   "cell_type": "markdown",
   "metadata": {},
   "source": [
    "Let's create a new group within this file to store our results\n",
    "\n"
   ]
  },
  {
   "cell_type": "code",
   "execution_count": 20,
   "metadata": {
    "execution": {
     "iopub.execute_input": "2025-03-07T22:01:46.562114Z",
     "iopub.status.busy": "2025-03-07T22:01:46.561922Z",
     "iopub.status.idle": "2025-03-07T22:01:46.567038Z",
     "shell.execute_reply": "2025-03-07T22:01:46.566484Z"
    }
   },
   "outputs": [
    {
     "name": "stdout",
     "output_type": "stream",
     "text": [
      "<HDF5 group \"/Measurement_000/Channel_000/Magnitude_000\" (0 members)>\n"
     ]
    }
   ],
   "source": [
    "result_group = usid.hdf_utils.create_indexed_group(h5_file[data_usid.parent.name], 'Magnitude')\n",
    "print(result_group)"
   ]
  },
  {
   "cell_type": "markdown",
   "metadata": {},
   "source": [
    "The \"indexed\" part means it appends 000, 001, etc if we do this many times\n",
    "Many built-in pyUSID and pycroscopy command do this so we don't overwrite old\n",
    "results. Because of the power of HDF5 we can go back to old processing and see!\n",
    "\n",
    "There's an analogous command create_results_group if you'd like\n",
    "\n",
    "Anyway let's print our tree out for good measure\n",
    "\n"
   ]
  },
  {
   "cell_type": "code",
   "execution_count": 21,
   "metadata": {
    "execution": {
     "iopub.execute_input": "2025-03-07T22:01:46.568893Z",
     "iopub.status.busy": "2025-03-07T22:01:46.568698Z",
     "iopub.status.idle": "2025-03-07T22:01:46.573262Z",
     "shell.execute_reply": "2025-03-07T22:01:46.572702Z"
    }
   },
   "outputs": [
    {
     "name": "stdout",
     "output_type": "stream",
     "text": [
      "/\n",
      "Measurement_000\n",
      "Measurement_000/Channel_000\n",
      "Measurement_000/Channel_000/Magnitude_000\n",
      "Measurement_000/Channel_000/Position_Indices\n",
      "Measurement_000/Channel_000/Position_Values\n",
      "Measurement_000/Channel_000/Raw_Data\n",
      "Measurement_000/Channel_000/Spectroscopic_Indices\n",
      "Measurement_000/Channel_000/Spectroscopic_Values\n"
     ]
    }
   ],
   "source": [
    "sidpy.hdf_utils.print_tree(h5_file, rel_paths=True)"
   ]
  },
  {
   "cell_type": "markdown",
   "metadata": {},
   "source": [
    "Now we want to add our data. But we want to add some attributes as well to describe\n",
    "what we've done to our data. Attributes are a dictionary, so let's create one.\n",
    "\n"
   ]
  },
  {
   "cell_type": "code",
   "execution_count": 22,
   "metadata": {
    "execution": {
     "iopub.execute_input": "2025-03-07T22:01:46.575305Z",
     "iopub.status.busy": "2025-03-07T22:01:46.574939Z",
     "iopub.status.idle": "2025-03-07T22:01:46.578361Z",
     "shell.execute_reply": "2025-03-07T22:01:46.577826Z"
    }
   },
   "outputs": [],
   "source": [
    "attrs = {'Method': 'Magnitude_Squared', 'units': 'm^2'}\n",
    "sidpy.hdf_utils.write_simple_attrs(result_group, attrs)"
   ]
  },
  {
   "cell_type": "markdown",
   "metadata": {},
   "source": [
    "Now, let's write a new main dataset\n",
    "\n"
   ]
  },
  {
   "cell_type": "code",
   "execution_count": 23,
   "metadata": {
    "execution": {
     "iopub.execute_input": "2025-03-07T22:01:46.580313Z",
     "iopub.status.busy": "2025-03-07T22:01:46.579932Z",
     "iopub.status.idle": "2025-03-07T22:01:46.603945Z",
     "shell.execute_reply": "2025-03-07T22:01:46.603406Z"
    }
   },
   "outputs": [],
   "source": [
    "data_result = usid.hdf_utils.write_main_dataset(result_group, \n",
    "                                                data_proc, \n",
    "                                                'Data Squared', \n",
    "                                                'Height Squared', 'm^2', \n",
    "                                                pos_dims, \n",
    "                                                spec_dims)"
   ]
  },
  {
   "cell_type": "markdown",
   "metadata": {},
   "source": [
    "This populates our new folder with the new data! Let's look for the Magnitude folder in our tree:\n",
    "\n"
   ]
  },
  {
   "cell_type": "code",
   "execution_count": 24,
   "metadata": {
    "execution": {
     "iopub.execute_input": "2025-03-07T22:01:46.605751Z",
     "iopub.status.busy": "2025-03-07T22:01:46.605534Z",
     "iopub.status.idle": "2025-03-07T22:01:46.610119Z",
     "shell.execute_reply": "2025-03-07T22:01:46.609624Z"
    }
   },
   "outputs": [
    {
     "name": "stdout",
     "output_type": "stream",
     "text": [
      "/\n",
      "Measurement_000\n",
      "Measurement_000/Channel_000\n",
      "Measurement_000/Channel_000/Magnitude_000\n",
      "Measurement_000/Channel_000/Magnitude_000/Data Squared\n",
      "Measurement_000/Channel_000/Magnitude_000/Position_Indices\n",
      "Measurement_000/Channel_000/Magnitude_000/Position_Values\n",
      "Measurement_000/Channel_000/Magnitude_000/Spectroscopic_Indices\n",
      "Measurement_000/Channel_000/Magnitude_000/Spectroscopic_Values\n",
      "Measurement_000/Channel_000/Position_Indices\n",
      "Measurement_000/Channel_000/Position_Values\n",
      "Measurement_000/Channel_000/Raw_Data\n",
      "Measurement_000/Channel_000/Spectroscopic_Indices\n",
      "Measurement_000/Channel_000/Spectroscopic_Values\n"
     ]
    }
   ],
   "source": [
    "sidpy.hdf_utils.print_tree(h5_file, rel_paths=True)"
   ]
  },
  {
   "cell_type": "markdown",
   "metadata": {},
   "source": [
    "If we get all the Main datasets, we see a new dataset pop up in our list.\n",
    "\n"
   ]
  },
  {
   "cell_type": "code",
   "execution_count": 25,
   "metadata": {
    "execution": {
     "iopub.execute_input": "2025-03-07T22:01:46.611880Z",
     "iopub.status.busy": "2025-03-07T22:01:46.611685Z",
     "iopub.status.idle": "2025-03-07T22:01:46.639308Z",
     "shell.execute_reply": "2025-03-07T22:01:46.638677Z"
    }
   },
   "outputs": [
    {
     "data": {
      "text/plain": [
       "[<HDF5 dataset \"Data Squared\": shape (100, 100), type \"<f8\">\n",
       " located at: \n",
       " \t/Measurement_000/Channel_000/Magnitude_000/Data Squared \n",
       " Data contains: \n",
       " \tHeight Squared (m^2) \n",
       " Data dimensions and original shape: \n",
       " Position Dimensions: \n",
       " \tCols - size: 10 \n",
       " \tRows - size: 10 \n",
       " Spectroscopic Dimensions: \n",
       " \tTime - size: 100\n",
       " Data Type:\n",
       " \tfloat64,\n",
       " <HDF5 dataset \"Raw_Data\": shape (100, 100), type \"<f8\">\n",
       " located at: \n",
       " \t/Measurement_000/Channel_000/Raw_Data \n",
       " Data contains: \n",
       " \tHeight (m) \n",
       " Data dimensions and original shape: \n",
       " Position Dimensions: \n",
       " \tCols - size: 10 \n",
       " \tRows - size: 10 \n",
       " Spectroscopic Dimensions: \n",
       " \tTime - size: 100\n",
       " Data Type:\n",
       " \tfloat64]"
      ]
     },
     "execution_count": 25,
     "metadata": {},
     "output_type": "execute_result"
    }
   ],
   "source": [
    "usid.hdf_utils.get_all_main(h5_file)"
   ]
  },
  {
   "cell_type": "markdown",
   "metadata": {},
   "source": [
    "And to verify the attributes for the data:\n",
    "\n"
   ]
  },
  {
   "cell_type": "code",
   "execution_count": 26,
   "metadata": {
    "execution": {
     "iopub.execute_input": "2025-03-07T22:01:46.641568Z",
     "iopub.status.busy": "2025-03-07T22:01:46.641120Z",
     "iopub.status.idle": "2025-03-07T22:01:46.646777Z",
     "shell.execute_reply": "2025-03-07T22:01:46.646105Z"
    }
   },
   "outputs": [
    {
     "data": {
      "text/plain": [
       "{'Position_Indices': <HDF5 object reference>,\n",
       " 'Position_Values': <HDF5 object reference>,\n",
       " 'Spectroscopic_Indices': <HDF5 object reference>,\n",
       " 'Spectroscopic_Values': <HDF5 object reference>,\n",
       " 'machine_id': 'fv-az1691-747',\n",
       " 'platform': 'Linux-6.8.0-1021-azure-x86_64-with-glibc2.39',\n",
       " 'pyUSID_version': '0.0.12',\n",
       " 'quantity': 'Height Squared',\n",
       " 'sidpy_version': '0.12.6',\n",
       " 'timestamp': '2025_03_07-22_01_46',\n",
       " 'units': 'm^2'}"
      ]
     },
     "execution_count": 26,
     "metadata": {},
     "output_type": "execute_result"
    }
   ],
   "source": [
    "sidpy.hdf_utils.get_attributes(data_result)"
   ]
  },
  {
   "cell_type": "markdown",
   "metadata": {},
   "source": [
    "... and the data_group:\n",
    "\n"
   ]
  },
  {
   "cell_type": "code",
   "execution_count": 27,
   "metadata": {
    "execution": {
     "iopub.execute_input": "2025-03-07T22:01:46.648868Z",
     "iopub.status.busy": "2025-03-07T22:01:46.648465Z",
     "iopub.status.idle": "2025-03-07T22:01:46.653773Z",
     "shell.execute_reply": "2025-03-07T22:01:46.653228Z"
    }
   },
   "outputs": [
    {
     "data": {
      "text/plain": [
       "{'Method': 'Magnitude_Squared',\n",
       " 'machine_id': 'fv-az1691-747',\n",
       " 'platform': 'Linux-6.8.0-1021-azure-x86_64-with-glibc2.39',\n",
       " 'pyUSID_version': '0.0.12',\n",
       " 'sidpy_version': '0.12.6',\n",
       " 'timestamp': '2025_03_07-22_01_46',\n",
       " 'units': 'm^2'}"
      ]
     },
     "execution_count": 27,
     "metadata": {},
     "output_type": "execute_result"
    }
   ],
   "source": [
    "sidpy.hdf_utils.get_attributes(data_result.parent)"
   ]
  },
  {
   "cell_type": "markdown",
   "metadata": {},
   "source": [
    "Lastly, to verify this dataset is a Main dataset (with position and spectral dimensions)\n",
    "\n"
   ]
  },
  {
   "cell_type": "code",
   "execution_count": 28,
   "metadata": {
    "execution": {
     "iopub.execute_input": "2025-03-07T22:01:46.655753Z",
     "iopub.status.busy": "2025-03-07T22:01:46.655360Z",
     "iopub.status.idle": "2025-03-07T22:01:46.660977Z",
     "shell.execute_reply": "2025-03-07T22:01:46.660417Z"
    }
   },
   "outputs": [
    {
     "data": {
      "text/plain": [
       "{'Position_Indices': <HDF5 object reference>,\n",
       " 'Position_Values': <HDF5 object reference>,\n",
       " 'Spectroscopic_Indices': <HDF5 object reference>,\n",
       " 'Spectroscopic_Values': <HDF5 object reference>,\n",
       " 'machine_id': 'fv-az1691-747',\n",
       " 'platform': 'Linux-6.8.0-1021-azure-x86_64-with-glibc2.39',\n",
       " 'pyUSID_version': '0.0.12',\n",
       " 'quantity': 'Height Squared',\n",
       " 'sidpy_version': '0.12.6',\n",
       " 'timestamp': '2025_03_07-22_01_46',\n",
       " 'units': 'm^2'}"
      ]
     },
     "execution_count": 28,
     "metadata": {},
     "output_type": "execute_result"
    }
   ],
   "source": [
    "sidpy.hdf_utils.get_attributes(data_result)"
   ]
  },
  {
   "cell_type": "code",
   "execution_count": null,
   "metadata": {},
   "outputs": [],
   "source": []
  }
 ],
 "metadata": {
  "anaconda-cloud": {},
  "kernelspec": {
   "display_name": "Python [default]",
   "language": "python",
   "name": "python3"
  },
  "language_info": {
   "codemirror_mode": {
    "name": "ipython",
    "version": 3
   },
   "file_extension": ".py",
   "mimetype": "text/x-python",
   "name": "python",
   "nbconvert_exporter": "python",
   "pygments_lexer": "ipython3",
   "version": "3.9.21"
  }
 },
 "nbformat": 4,
 "nbformat_minor": 1
}
