{
 "cells": [
  {
   "cell_type": "code",
   "execution_count": 1,
   "metadata": {
    "execution": {
     "iopub.execute_input": "2025-03-07T22:01:49.304748Z",
     "iopub.status.busy": "2025-03-07T22:01:49.304332Z",
     "iopub.status.idle": "2025-03-07T22:01:49.681204Z",
     "shell.execute_reply": "2025-03-07T22:01:49.680567Z"
    }
   },
   "outputs": [],
   "source": [
    "%matplotlib inline"
   ]
  },
  {
   "cell_type": "markdown",
   "metadata": {},
   "source": [
    "\n",
    "# The USIDataset\n",
    "\n",
    "**Suhas Somnath**\n",
    "\n",
    "11/11/2017\n",
    "\n",
    "**This document illustrates how the pyUSID.USIDataset class substantially simplifies accessing information about,\n",
    "slicing, and visualizing N-dimensional Universal Spectroscopy and Imaging Data (USID) Main datasets**\n"
   ]
  },
  {
   "cell_type": "markdown",
   "metadata": {},
   "source": [
    "## USID Main Datasets\n",
    "According to the **Universal Spectroscopy and Imaging Data (USID)** model, all spatial dimensions are collapsed to a\n",
    "single dimension and, similarly, all spectroscopic dimensions\n",
    "are also collapsed to a single dimension. Thus, the data is stored as a two-dimensional (N x P) matrix with N spatial\n",
    "locations each with P spectroscopic data points.\n",
    "\n",
    "This general and intuitive format allows imaging data from any instrument, measurement scheme, size, or dimensionality\n",
    "to be represented in the same way. Such an instrument independent data format enables a single set of analysis and\n",
    "processing functions to be reused for multiple image formats or modalities.\n",
    "\n",
    "``Main datasets`` are greater than the sum of their parts. They are more capable and information-packed than\n",
    "conventional datasets since they have (or are linked to) all the necessary information to describe a measured dataset.\n",
    "The additional information contained / linked by ``Main datasets`` includes:\n",
    "\n",
    "* the recorded physical quantity\n",
    "* units of the data\n",
    "* names of the position and spectroscopic dimensions\n",
    "* dimensionality of the data in its original N dimensional form etc.\n",
    "\n",
    "## USIDatasets = USID Main Datasets\n",
    "Regardless, ``Main datasets`` are just concepts or blueprints and not concrete digital objects in a programming language\n",
    "or a file. ``USIDatasets`` are **tangible representations of Main datasets**. From an implementation perspective, the\n",
    "USIDataset class extends the ``h5py.Dataset object``. In other words, USIDatasets have all the capabilities of\n",
    "standard HDF5 / h5py Dataset objects but are supercharged from a scientific perspective since they:\n",
    "\n",
    "* are self-describing\n",
    "* allow quick interactive visualization in Jupyter notebooks\n",
    "* allow intuitive slicing of the N dimensional dataset\n",
    "* and much much more.\n",
    "\n",
    "While it is most certainly possible to access this information and enable these functionalities via the native ``h5py``\n",
    "functionality, it can become tedious very quickly.  In fact, a lot of the functionality of USIDataset comes from\n",
    "orchestration of multiple functions in ``pyUSID.hdf_utils`` outlined in other documents. The USIDataset class\n",
    "makes such necessary information and functionality easily accessible.\n",
    "\n",
    "Since Main datasets are the hubs of information in a USID HDF5 file (**h5USID**), we expect that the majority of\n",
    "the data interrogation will happen via USIDatasets\n",
    "\n",
    "## Recommended pre-requisite reading\n",
    "* [Universal Spectroscopic and Imaging Data (USID) model](https://pycroscopy.github.io/USID/usid_model.html)\n",
    "* [Crash course on HDF5 and h5py](./h5py_primer.html)\n",
    "* Utilities for [reading](./hdf_utils_read.html) h5USID files using pyUSID\n",
    "\n",
    "## Example scientific dataset\n",
    "\n",
    "Before, we dive into the functionalities of USIDatasets we need to understand the dataset that will be used in this\n",
    "example. For this example, we will be working with a Band Excitation Polarization Switching (BEPS) dataset acquired\n",
    "from advanced atomic force microscopes. In the much simpler Band Excitation (BE) imaging datasets, a single spectra\n",
    "is acquired at each location in a two dimensional grid of spatial locations. Thus, BE imaging datasets have two\n",
    "position dimensions (X, Y) and one spectroscopic dimension (frequency - against which the spectra is recorded). The\n",
    "BEPS dataset used in this example has a spectra for each combination of three other parameters (DC offset, Field, and\n",
    "Cycle). Thus, this dataset has three new spectral dimensions in addition to the spectra itself. Hence, this dataset\n",
    "becomes a 2+4 = 6 dimensional dataset\n",
    "\n",
    "## Load all necessary packages\n",
    "\n",
    "First, we need to load the necessary packages. Here are a list of packages, besides pyUSID, that will be used in\n",
    "this example:\n",
    "\n",
    "* ``h5py`` - to open and close the file\n",
    "* ``wget`` - to download the example data file\n",
    "* ``numpy`` - for numerical operations on arrays in memory\n",
    "* ``matplotlib`` - basic visualization of data\n",
    "\n"
   ]
  },
  {
   "cell_type": "code",
   "execution_count": 2,
   "metadata": {
    "execution": {
     "iopub.execute_input": "2025-03-07T22:01:49.683688Z",
     "iopub.status.busy": "2025-03-07T22:01:49.683407Z",
     "iopub.status.idle": "2025-03-07T22:01:50.591287Z",
     "shell.execute_reply": "2025-03-07T22:01:50.590592Z"
    }
   },
   "outputs": [],
   "source": [
    "from __future__ import print_function, division, unicode_literals\n",
    "import os\n",
    "# Warning package in case something goes wrong\n",
    "from warnings import warn\n",
    "import subprocess\n",
    "import sys\n",
    "\n",
    "\n",
    "def install(package):\n",
    "    subprocess.call([sys.executable, \"-m\", \"pip\", \"install\", package])\n",
    "# Package for downloading online files:\n",
    "\n",
    "\n",
    "try:\n",
    "    # This package is not part of anaconda and may need to be installed.\n",
    "    import wget\n",
    "except ImportError:\n",
    "    warn('wget not found.  Will install with pip.')\n",
    "    import pip\n",
    "    install('wget')\n",
    "    import wget\n",
    "import h5py\n",
    "import numpy as np\n",
    "import matplotlib.pyplot as plt\n",
    "\n",
    "try:\n",
    "    import sidpy\n",
    "except ImportError:\n",
    "    warn('sidpy not found.  Will install with pip.')\n",
    "    import pip\n",
    "    install('sidpy')\n",
    "    import sidpy\n",
    "\n",
    "try:\n",
    "    import pyUSID as usid\n",
    "except ImportError:\n",
    "    warn('pyUSID not found.  Will install with pip.')\n",
    "    import pip\n",
    "    install('pyUSID')\n",
    "    import pyUSID as usid"
   ]
  },
  {
   "cell_type": "markdown",
   "metadata": {},
   "source": [
    "## Load the dataset\n",
    "First, lets download example h5USID file from the pyUSID Github project:\n",
    "\n"
   ]
  },
  {
   "cell_type": "code",
   "execution_count": 3,
   "metadata": {
    "execution": {
     "iopub.execute_input": "2025-03-07T22:01:50.594685Z",
     "iopub.status.busy": "2025-03-07T22:01:50.593790Z",
     "iopub.status.idle": "2025-03-07T22:01:50.925171Z",
     "shell.execute_reply": "2025-03-07T22:01:50.924611Z"
    }
   },
   "outputs": [
    {
     "name": "stdout",
     "output_type": "stream",
     "text": [
      "Working on:\n",
      "temp.h5\n"
     ]
    }
   ],
   "source": [
    "url = 'https://raw.githubusercontent.com/pycroscopy/pyUSID/master/data/BEPS_small.h5'\n",
    "h5_path = 'temp.h5'\n",
    "_ = wget.download(url, h5_path, bar=None)\n",
    "\n",
    "print('Working on:\\n' + h5_path)"
   ]
  },
  {
   "cell_type": "markdown",
   "metadata": {},
   "source": [
    "Next, lets open this HDF5 file in read-only mode. Note that opening the file does not cause the contents to be\n",
    "automatically loaded to memory. Instead, we are presented with objects that refer to specific HDF5 datasets,\n",
    "attributes or groups in the file\n",
    "\n"
   ]
  },
  {
   "cell_type": "code",
   "execution_count": 4,
   "metadata": {
    "execution": {
     "iopub.execute_input": "2025-03-07T22:01:50.927303Z",
     "iopub.status.busy": "2025-03-07T22:01:50.926991Z",
     "iopub.status.idle": "2025-03-07T22:01:50.930550Z",
     "shell.execute_reply": "2025-03-07T22:01:50.930050Z"
    }
   },
   "outputs": [],
   "source": [
    "h5_path = 'temp.h5'\n",
    "h5_f = h5py.File(h5_path, mode='r')"
   ]
  },
  {
   "cell_type": "markdown",
   "metadata": {},
   "source": [
    "Here, ``h5_f`` is an active handle to the open file.\n",
    "Lets quickly look at the contents of this HDF5 file using a handy function in ``pyUSID.hdf_utils`` - ``print_tree()``\n",
    "\n"
   ]
  },
  {
   "cell_type": "code",
   "execution_count": 5,
   "metadata": {
    "execution": {
     "iopub.execute_input": "2025-03-07T22:01:50.932435Z",
     "iopub.status.busy": "2025-03-07T22:01:50.932084Z",
     "iopub.status.idle": "2025-03-07T22:01:50.939860Z",
     "shell.execute_reply": "2025-03-07T22:01:50.939276Z"
    }
   },
   "outputs": [
    {
     "name": "stdout",
     "output_type": "stream",
     "text": [
      "Contents of the H5 file:\n",
      "/\n",
      "├ Measurement_000\n",
      "  ---------------\n",
      "  ├ Channel_000\n",
      "    -----------\n",
      "    ├ Bin_FFT\n",
      "    ├ Bin_Frequencies\n",
      "    ├ Bin_Indices\n",
      "    ├ Bin_Step\n",
      "    ├ Bin_Wfm_Type\n",
      "    ├ Excitation_Waveform\n",
      "    ├ Noise_Floor\n",
      "    ├ Position_Indices\n",
      "    ├ Position_Values\n",
      "    ├ Raw_Data\n",
      "    ├ Raw_Data-SHO_Fit_000\n",
      "      --------------------\n",
      "      ├ Fit\n",
      "      ├ Guess\n",
      "      ├ Spectroscopic_Indices\n",
      "      ├ Spectroscopic_Values\n",
      "    ├ Spatially_Averaged_Plot_Group_000\n",
      "      ---------------------------------\n",
      "      ├ Bin_Frequencies\n",
      "      ├ Mean_Spectrogram\n",
      "      ├ Spectroscopic_Parameter\n",
      "      ├ Step_Averaged_Response\n",
      "    ├ Spatially_Averaged_Plot_Group_001\n",
      "      ---------------------------------\n",
      "      ├ Bin_Frequencies\n",
      "      ├ Mean_Spectrogram\n",
      "      ├ Spectroscopic_Parameter\n",
      "      ├ Step_Averaged_Response\n",
      "    ├ Spectroscopic_Indices\n",
      "    ├ Spectroscopic_Values\n",
      "    ├ UDVS\n",
      "    ├ UDVS_Indices\n"
     ]
    }
   ],
   "source": [
    "print('Contents of the H5 file:')\n",
    "sidpy.hdf_utils.print_tree(h5_f)"
   ]
  },
  {
   "cell_type": "markdown",
   "metadata": {},
   "source": [
    "For this example, we will only focus on the ``Raw_Data`` dataset which contains the 6D raw measurement data. First lets\n",
    "access the HDF5 dataset and check if it is a ``Main`` dataset in the first place:\n",
    "\n"
   ]
  },
  {
   "cell_type": "code",
   "execution_count": 6,
   "metadata": {
    "execution": {
     "iopub.execute_input": "2025-03-07T22:01:50.941781Z",
     "iopub.status.busy": "2025-03-07T22:01:50.941545Z",
     "iopub.status.idle": "2025-03-07T22:01:50.948801Z",
     "shell.execute_reply": "2025-03-07T22:01:50.948093Z"
    }
   },
   "outputs": [
    {
     "name": "stdout",
     "output_type": "stream",
     "text": [
      "<HDF5 dataset \"Raw_Data\": shape (25, 22272), type \"<c8\">\n",
      "h5_raw is a main dataset? True\n"
     ]
    }
   ],
   "source": [
    "h5_raw = h5_f['/Measurement_000/Channel_000/Raw_Data']\n",
    "print(h5_raw)\n",
    "print('h5_raw is a main dataset? {}'.format(usid.hdf_utils.check_if_main(h5_raw)))"
   ]
  },
  {
   "cell_type": "markdown",
   "metadata": {},
   "source": [
    "It turns out that this is indeed a Main dataset. Therefore, we can turn this in to a USIDataset without any\n",
    "problems.\n",
    "\n",
    "## Creating a USIDataset\n",
    "All one needs for creating a USIDataset object is a Main dataset. Here is how we can supercharge h5_raw:\n",
    "\n"
   ]
  },
  {
   "cell_type": "code",
   "execution_count": 7,
   "metadata": {
    "execution": {
     "iopub.execute_input": "2025-03-07T22:01:50.950950Z",
     "iopub.status.busy": "2025-03-07T22:01:50.950558Z",
     "iopub.status.idle": "2025-03-07T22:01:51.005218Z",
     "shell.execute_reply": "2025-03-07T22:01:51.004710Z"
    }
   },
   "outputs": [
    {
     "name": "stdout",
     "output_type": "stream",
     "text": [
      "<HDF5 dataset \"Raw_Data\": shape (25, 22272), type \"<c8\">\n",
      "located at: \n",
      "\t/Measurement_000/Channel_000/Raw_Data \n",
      "Data contains: \n",
      "\tCantilever Vertical Deflection (V) \n",
      "Data dimensions and original shape: \n",
      "Position Dimensions: \n",
      "\tX - size: 5 \n",
      "\tY - size: 5 \n",
      "Spectroscopic Dimensions: \n",
      "\tFrequency - size: 87 \n",
      "\tDC_Offset - size: 64 \n",
      "\tField - size: 2 \n",
      "\tCycle - size: 2\n",
      "Data Type:\n",
      "\tcomplex64\n"
     ]
    }
   ],
   "source": [
    "pd_raw = usid.USIDataset(h5_raw)\n",
    "print(pd_raw)"
   ]
  },
  {
   "cell_type": "markdown",
   "metadata": {},
   "source": [
    "Notice how easy it was to create a USIDataset object. Also, note how the USIDataset is much more informative in\n",
    "comparison with the conventional h5py.Dataset object.\n",
    "\n",
    "### USIDataset = Supercharged(h5py.Dataset)\n",
    "Remember that USIDataset is just an extension of the h5py.Dataset object class. Therefore, both the ``h5_raw`` and\n",
    "``pd_raw`` refer to the same object as the following equality test demonstrates. Except ``pd_raw`` knows about the\n",
    "``ancillary datasets`` and other information which makes it a far more powerful object for you.\n",
    "\n"
   ]
  },
  {
   "cell_type": "code",
   "execution_count": 8,
   "metadata": {
    "execution": {
     "iopub.execute_input": "2025-03-07T22:01:51.007203Z",
     "iopub.status.busy": "2025-03-07T22:01:51.006826Z",
     "iopub.status.idle": "2025-03-07T22:01:51.010258Z",
     "shell.execute_reply": "2025-03-07T22:01:51.009732Z"
    }
   },
   "outputs": [
    {
     "name": "stdout",
     "output_type": "stream",
     "text": [
      "True\n"
     ]
    }
   ],
   "source": [
    "print(pd_raw == h5_raw)"
   ]
  },
  {
   "cell_type": "markdown",
   "metadata": {},
   "source": [
    "## Easier access to information\n",
    "Since the USIDataset is aware and has handles to the supporting ancillary datasets, they can be accessed as\n",
    "properties of the object unlike HDF5 datasets. Note that these ancillary datasets can be accessed using functionality\n",
    "in pyUSID.hdf_utils as well. However, the USIDataset option is far easier.\n",
    "\n",
    "Let us compare accessing the Spectroscopic Indices via the USIDataset and hdf_utils functionality:\n",
    "\n"
   ]
  },
  {
   "cell_type": "code",
   "execution_count": 9,
   "metadata": {
    "execution": {
     "iopub.execute_input": "2025-03-07T22:01:51.012243Z",
     "iopub.status.busy": "2025-03-07T22:01:51.011868Z",
     "iopub.status.idle": "2025-03-07T22:01:51.015852Z",
     "shell.execute_reply": "2025-03-07T22:01:51.015305Z"
    }
   },
   "outputs": [
    {
     "name": "stdout",
     "output_type": "stream",
     "text": [
      "True\n"
     ]
    }
   ],
   "source": [
    "h5_spec_inds_1 = pd_raw.h5_spec_inds\n",
    "h5_spec_inds_2 = sidpy.hdf_utils.get_auxiliary_datasets(h5_raw, 'Spectroscopic_Indices')[0]\n",
    "print(h5_spec_inds_1 == h5_spec_inds_2)"
   ]
  },
  {
   "cell_type": "markdown",
   "metadata": {},
   "source": [
    "In the same vein, it is also easy to access **string descriptors** of the ancillary datasets and the Main dataset.\n",
    "The ``hdf_utils`` alternatives to these operations / properties also exist and are discussed in an alternate document,\n",
    "but will not be discussed here for brevity.:\n",
    "\n"
   ]
  },
  {
   "cell_type": "code",
   "execution_count": 10,
   "metadata": {
    "execution": {
     "iopub.execute_input": "2025-03-07T22:01:51.017763Z",
     "iopub.status.busy": "2025-03-07T22:01:51.017512Z",
     "iopub.status.idle": "2025-03-07T22:01:51.022096Z",
     "shell.execute_reply": "2025-03-07T22:01:51.021545Z"
    }
   },
   "outputs": [
    {
     "name": "stdout",
     "output_type": "stream",
     "text": [
      "Desctiption of physical quantity in the Main dataset:\n",
      "Cantilever Vertical Deflection (V)\n",
      "Position Dimension names and sizes:\n",
      "X : 5\n",
      "Y : 5\n",
      "Spectroscopic Dimension names and sizes:\n",
      "Frequency : 87\n",
      "DC_Offset : 64\n",
      "Field : 2\n",
      "Cycle : 2\n",
      "Position Dimensions:\n",
      "['X (m)', 'Y (m)']\n",
      "Spectroscopic Dimensions:\n",
      "['Frequency (Hz)', 'DC_Offset (V)', 'Field ()', 'Cycle ()']\n"
     ]
    }
   ],
   "source": [
    "print('Desctiption of physical quantity in the Main dataset:')\n",
    "print(pd_raw.data_descriptor)\n",
    "print('Position Dimension names and sizes:')\n",
    "for name, length in zip(pd_raw.pos_dim_labels, pd_raw.pos_dim_sizes):\n",
    "    print('{} : {}'.format(name, length))\n",
    "print('Spectroscopic Dimension names and sizes:')\n",
    "for name, length in zip(pd_raw.spec_dim_labels, pd_raw.spec_dim_sizes):\n",
    "    print('{} : {}'.format(name, length))\n",
    "print('Position Dimensions:')\n",
    "print(pd_raw.pos_dim_descriptors)\n",
    "print('Spectroscopic Dimensions:')\n",
    "print(pd_raw.spec_dim_descriptors)"
   ]
  },
  {
   "cell_type": "markdown",
   "metadata": {},
   "source": [
    "## Values for each Dimension\n",
    "When visualizing the data it is essential to plot the data against appropriate values on the X, Y, Z axes. The\n",
    "USIDataset object makes it very easy to access the values over which a dimension was varied using the\n",
    "``get_pos_values()`` and ``get_spec_values()`` functions. This functionality is enabled by the ``get_unit_values()``\n",
    "function in ``pyUSID.hdf_utils``.\n",
    "\n",
    "For example, let us say we wanted to see how the ``DC_Offset`` dimension was varied, we could:\n",
    "\n"
   ]
  },
  {
   "cell_type": "code",
   "execution_count": 11,
   "metadata": {
    "execution": {
     "iopub.execute_input": "2025-03-07T22:01:51.023918Z",
     "iopub.status.busy": "2025-03-07T22:01:51.023727Z",
     "iopub.status.idle": "2025-03-07T22:01:51.160140Z",
     "shell.execute_reply": "2025-03-07T22:01:51.159465Z"
    }
   },
   "outputs": [
    {
     "data": {
      "image/png": "[encoded data removed]",
      "text/plain": [
       "<Figure size 350x350 with 1 Axes>"
      ]
     },
     "metadata": {},
     "output_type": "display_data"
    }
   ],
   "source": [
    "dim_name = 'DC_Offset'\n",
    "dc_vec = pd_raw.get_spec_values(dim_name)\n",
    "fig, axis = plt.subplots(figsize=(3.5, 3.5))\n",
    "axis.plot(dc_vec)\n",
    "axis.set_xlabel('Points in dimension')\n",
    "axis.set_title(dim_name)\n",
    "fig.tight_layout()"
   ]
  },
  {
   "cell_type": "markdown",
   "metadata": {},
   "source": [
    "## Reshaping to N dimensions\n",
    "\n",
    "The USID model stores N dimensional datasets in a flattened 2D form of position x spectral values. It can become\n",
    "challenging to retrieve the data in its original N-dimensional form, especially for multidimensional datasets\n",
    "such as the one we are working on. Fortunately, all the information regarding the dimensionality of the dataset\n",
    "are contained in the spectral and position ancillary datasets. PycoDataset makes it remarkably easy to obtain the N\n",
    "dimensional form of a dataset:\n",
    "\n"
   ]
  },
  {
   "cell_type": "code",
   "execution_count": 12,
   "metadata": {
    "execution": {
     "iopub.execute_input": "2025-03-07T22:01:51.162053Z",
     "iopub.status.busy": "2025-03-07T22:01:51.161850Z",
     "iopub.status.idle": "2025-03-07T22:01:51.319384Z",
     "shell.execute_reply": "2025-03-07T22:01:51.318855Z"
    }
   },
   "outputs": [
    {
     "name": "stdout",
     "output_type": "stream",
     "text": [
      "Shape of the N dimensional form of the dataset:\n",
      "(5, 5, 87, 64, 2, 2)\n",
      "And these are the dimensions\n",
      "['X', 'Y', 'Frequency', 'DC_Offset', 'Field', 'Cycle']\n"
     ]
    }
   ],
   "source": [
    "ndim_form = pd_raw.get_n_dim_form()\n",
    "print('Shape of the N dimensional form of the dataset:')\n",
    "print(ndim_form.shape)\n",
    "print('And these are the dimensions')\n",
    "print(pd_raw.n_dim_labels)"
   ]
  },
  {
   "cell_type": "markdown",
   "metadata": {},
   "source": [
    "## Slicing\n",
    "It is often very challenging to grapple with multidimensional datasets such as the one in this example. It may not\n",
    "even be possible to load the entire dataset in its 2D or N dimensional form to memory if the dataset is several (or\n",
    "several hundred) gigabytes large. Slicing the 2D Main dataset can easily become confusing and frustrating. To solve\n",
    "this problem, USIDataset has a ``slice()`` function that efficiently loads the only the sliced data into memory and\n",
    "reshapes the data to an N dimensional form. Best of all, the slicing arguments can be provided in the actual\n",
    "N dimensional form!\n",
    "\n",
    "For example, imagine that we cannot load the entire example dataset in its N dimensional form and then slice it. Lets\n",
    "try to get the spatial map for the following conditions without loading the entire dataset in its N dimensional form\n",
    "and then slicing it :\n",
    "\n",
    "* 14th index of DC Offset\n",
    "* 1st index of cycle\n",
    "* 0th index of Field (remember Python is 0 based)\n",
    "* 43rd index of Frequency\n",
    "\n",
    "To get this, we would slice as:\n",
    "\n"
   ]
  },
  {
   "cell_type": "code",
   "execution_count": 13,
   "metadata": {
    "execution": {
     "iopub.execute_input": "2025-03-07T22:01:51.321284Z",
     "iopub.status.busy": "2025-03-07T22:01:51.321096Z",
     "iopub.status.idle": "2025-03-07T22:01:51.397172Z",
     "shell.execute_reply": "2025-03-07T22:01:51.396673Z"
    }
   },
   "outputs": [],
   "source": [
    "spat_map_1, success = pd_raw.slice({'Frequency': 43, 'DC_Offset': 14, 'Field': 0, 'Cycle': 1})"
   ]
  },
  {
   "cell_type": "markdown",
   "metadata": {},
   "source": [
    "As a verification, lets try to plot the same spatial map by slicing the N dimensional form we got earlier and compare\n",
    "it with what we got above:\n",
    "\n"
   ]
  },
  {
   "cell_type": "code",
   "execution_count": 14,
   "metadata": {
    "execution": {
     "iopub.execute_input": "2025-03-07T22:01:51.399101Z",
     "iopub.status.busy": "2025-03-07T22:01:51.398899Z",
     "iopub.status.idle": "2025-03-07T22:01:51.402562Z",
     "shell.execute_reply": "2025-03-07T22:01:51.402014Z"
    }
   },
   "outputs": [
    {
     "name": "stdout",
     "output_type": "stream",
     "text": [
      "2D slicing == ND slicing: True\n"
     ]
    }
   ],
   "source": [
    "spat_map_2 = np.squeeze(ndim_form[:, :, 43, 14, 0, 1])\n",
    "print('2D slicing == ND slicing: {}'.format(np.allclose(spat_map_1, spat_map_2)))"
   ]
  },
  {
   "cell_type": "markdown",
   "metadata": {},
   "source": [
    "## Interactive Visualization\n",
    "USIDatasets also enable quick, interactive, and easy visualization of data up to 2 position and 2 spectroscopic\n",
    "dimensions (4D datasets). Since this particular example has 6 dimensions, we would need to slice two dimensions in\n",
    "order to visualize the remaining 4 dimensions. Note that this interactive visualization **only** works on Jupyter\n",
    "Notebooks. This html file generated by a python script does not allow for interactive visualization and you may only\n",
    "see a set of static plots. "
   ]
  },
  {
   "cell_type": "code",
   "execution_count": 15,
   "metadata": {
    "execution": {
     "iopub.execute_input": "2025-03-07T22:01:51.404307Z",
     "iopub.status.busy": "2025-03-07T22:01:51.404115Z",
     "iopub.status.idle": "2025-03-07T22:01:52.202720Z",
     "shell.execute_reply": "2025-03-07T22:01:52.202152Z"
    }
   },
   "outputs": [
    {
     "data": {
      "image/png": "[encoded data removed]",
      "text/plain": [
       "<Figure size 800x350 with 4 Axes>"
      ]
     },
     "metadata": {},
     "output_type": "display_data"
    },
    {
     "data": {
      "application/vnd.jupyter.widget-view+json": {
       "model_id": "cef4b1d636ee4aa39f29e343b57f9de5",
       "version_major": 2,
       "version_minor": 0
      },
      "text/plain": [
       "interactive(children=(IntSlider(value=2, description='X', max=4), IntSlider(value=2, description='Y', max=4), …"
      ]
     },
     "metadata": {},
     "output_type": "display_data"
    }
   ],
   "source": [
    "pd_raw.visualize(slice_dict={'Field': 0, 'Cycle': 1});"
   ]
  },
  {
   "cell_type": "markdown",
   "metadata": {},
   "source": [
    "Close and delete the h5_file\n",
    "\n"
   ]
  },
  {
   "cell_type": "code",
   "execution_count": 16,
   "metadata": {
    "execution": {
     "iopub.execute_input": "2025-03-07T22:01:52.205853Z",
     "iopub.status.busy": "2025-03-07T22:01:52.205676Z",
     "iopub.status.idle": "2025-03-07T22:01:52.210609Z",
     "shell.execute_reply": "2025-03-07T22:01:52.210108Z"
    }
   },
   "outputs": [],
   "source": [
    "h5_f.close()\n",
    "os.remove(h5_path)"
   ]
  }
 ],
 "metadata": {
  "anaconda-cloud": {},
  "kernelspec": {
   "display_name": "Python [default]",
   "language": "python",
   "name": "python3"
  },
  "language_info": {
   "codemirror_mode": {
    "name": "ipython",
    "version": 3
   },
   "file_extension": ".py",
   "mimetype": "text/x-python",
   "name": "python",
   "nbconvert_exporter": "python",
   "pygments_lexer": "ipython3",
   "version": "3.9.21"
  },
  "widgets": {
   "application/vnd.jupyter.widget-state+json": {
    "state": {
     "039d9fc4799a4ef9bad66be31fafc0be": {
      "model_module": "@jupyter-widgets/base",
      "model_module_version": "2.0.0",
      "model_name": "LayoutModel",
      "state": {
       "_model_module": "@jupyter-widgets/base",
       "_model_module_version": "2.0.0",
       "_model_name": "LayoutModel",
       "_view_count": null,
       "_view_module": "@jupyter-widgets/base",
       "_view_module_version": "2.0.0",
       "_view_name": "LayoutView",
       "align_content": null,
       "align_items": null,
       "align_self": null,
       "border_bottom": null,
       "border_left": null,
       "border_right": null,
       "border_top": null,
       "bottom": null,
       "display": null,
       "flex": null,
       "flex_flow": null,
       "grid_area": null,
       "grid_auto_columns": null,
       "grid_auto_flow": null,
       "grid_auto_rows": null,
       "grid_column": null,
       "grid_gap": null,
       "grid_row": null,
       "grid_template_areas": null,
       "grid_template_columns": null,
       "grid_template_rows": null,
       "height": null,
       "justify_content": null,
       "justify_items": null,
       "left": null,
       "margin": null,
       "max_height": null,
       "max_width": null,
       "min_height": null,
       "min_width": null,
       "object_fit": null,
       "object_position": null,
       "order": null,
       "overflow": null,
       "padding": null,
       "right": null,
       "top": null,
       "visibility": null,
       "width": null
      }
     },
     "0a0c405d956749299b73962184ddc8a9": {
      "model_module": "@jupyter-widgets/base",
      "model_module_version": "2.0.0",
      "model_name": "LayoutModel",
      "state": {
       "_model_module": "@jupyter-widgets/base",
       "_model_module_version": "2.0.0",
       "_model_name": "LayoutModel",
       "_view_count": null,
       "_view_module": "@jupyter-widgets/base",
       "_view_module_version": "2.0.0",
       "_view_name": "LayoutView",
       "align_content": null,
       "align_items": null,
       "align_self": null,
       "border_bottom": null,
       "border_left": null,
       "border_right": null,
       "border_top": null,
       "bottom": null,
       "display": null,
       "flex": null,
       "flex_flow": null,
       "grid_area": null,
       "grid_auto_columns": null,
       "grid_auto_flow": null,
       "grid_auto_rows": null,
       "grid_column": null,
       "grid_gap": null,
       "grid_row": null,
       "grid_template_areas": null,
       "grid_template_columns": null,
       "grid_template_rows": null,
       "height": null,
       "justify_content": null,
       "justify_items": null,
       "left": null,
       "margin": null,
       "max_height": null,
       "max_width": null,
       "min_height": null,
       "min_width": null,
       "object_fit": null,
       "object_position": null,
       "order": null,
       "overflow": null,
       "padding": null,
       "right": null,
       "top": null,
       "visibility": null,
       "width": null
      }
     },
     "1595f8d4065240e78a5abbdc35fb5d97": {
      "model_module": "@jupyter-widgets/base",
      "model_module_version": "2.0.0",
      "model_name": "LayoutModel",
      "state": {
       "_model_module": "@jupyter-widgets/base",
       "_model_module_version": "2.0.0",
       "_model_name": "LayoutModel",
       "_view_count": null,
       "_view_module": "@jupyter-widgets/base",
       "_view_module_version": "2.0.0",
       "_view_name": "LayoutView",
       "align_content": null,
       "align_items": null,
       "align_self": null,
       "border_bottom": null,
       "border_left": null,
       "border_right": null,
       "border_top": null,
       "bottom": null,
       "display": null,
       "flex": null,
       "flex_flow": null,
       "grid_area": null,
       "grid_auto_columns": null,
       "grid_auto_flow": null,
       "grid_auto_rows": null,
       "grid_column": null,
       "grid_gap": null,
       "grid_row": null,
       "grid_template_areas": null,
       "grid_template_columns": null,
       "grid_template_rows": null,
       "height": null,
       "justify_content": null,
       "justify_items": null,
       "left": null,
       "margin": null,
       "max_height": null,
       "max_width": null,
       "min_height": null,
       "min_width": null,
       "object_fit": null,
       "object_position": null,
       "order": null,
       "overflow": null,
       "padding": null,
       "right": null,
       "top": null,
       "visibility": null,
       "width": null
      }
     },
     "2dbdad5b018f4c34975d0bfe4649118d": {
      "model_module": "@jupyter-widgets/controls",
      "model_module_version": "2.0.0",
      "model_name": "SliderStyleModel",
      "state": {
       "_model_module": "@jupyter-widgets/controls",
       "_model_module_version": "2.0.0",
       "_model_name": "SliderStyleModel",
       "_view_count": null,
       "_view_module": "@jupyter-widgets/base",
       "_view_module_version": "2.0.0",
       "_view_name": "StyleView",
       "description_width": "",
       "handle_color": null
      }
     },
     "306b6f832efc439e81085617022092bf": {
      "model_module": "@jupyter-widgets/controls",
      "model_module_version": "2.0.0",
      "model_name": "DropdownModel",
      "state": {
       "_dom_classes": [],
       "_model_module": "@jupyter-widgets/controls",
       "_model_module_version": "2.0.0",
       "_model_name": "DropdownModel",
       "_options_labels": [
        "Real",
        "Imaginary",
        "Amplitude",
        "Phase"
       ],
       "_view_count": null,
       "_view_module": "@jupyter-widgets/controls",
       "_view_module_version": "2.0.0",
       "_view_name": "DropdownView",
       "description": "component",
       "description_allow_html": false,
       "disabled": false,
       "index": 0,
       "layout": "IPY_MODEL_3ba76e0cfc29479bbb4a12873c248709",
       "style": "IPY_MODEL_3287e16bb56d46398777d578bfee1151",
       "tabbable": null,
       "tooltip": null
      }
     },
     "31b211ec83804a67b615252777b237ce": {
      "model_module": "@jupyter-widgets/base",
      "model_module_version": "2.0.0",
      "model_name": "LayoutModel",
      "state": {
       "_model_module": "@jupyter-widgets/base",
       "_model_module_version": "2.0.0",
       "_model_name": "LayoutModel",
       "_view_count": null,
       "_view_module": "@jupyter-widgets/base",
       "_view_module_version": "2.0.0",
       "_view_name": "LayoutView",
       "align_content": null,
       "align_items": null,
       "align_self": null,
       "border_bottom": null,
       "border_left": null,
       "border_right": null,
       "border_top": null,
       "bottom": null,
       "display": null,
       "flex": null,
       "flex_flow": null,
       "grid_area": null,
       "grid_auto_columns": null,
       "grid_auto_flow": null,
       "grid_auto_rows": null,
       "grid_column": null,
       "grid_gap": null,
       "grid_row": null,
       "grid_template_areas": null,
       "grid_template_columns": null,
       "grid_template_rows": null,
       "height": null,
       "justify_content": null,
       "justify_items": null,
       "left": null,
       "margin": null,
       "max_height": null,
       "max_width": null,
       "min_height": null,
       "min_width": null,
       "object_fit": null,
       "object_position": null,
       "order": null,
       "overflow": null,
       "padding": null,
       "right": null,
       "top": null,
       "visibility": null,
       "width": null
      }
     },
     "3287e16bb56d46398777d578bfee1151": {
      "model_module": "@jupyter-widgets/controls",
      "model_module_version": "2.0.0",
      "model_name": "DescriptionStyleModel",
      "state": {
       "_model_module": "@jupyter-widgets/controls",
       "_model_module_version": "2.0.0",
       "_model_name": "DescriptionStyleModel",
       "_view_count": null,
       "_view_module": "@jupyter-widgets/base",
       "_view_module_version": "2.0.0",
       "_view_name": "StyleView",
       "description_width": ""
      }
     },
     "3ba76e0cfc29479bbb4a12873c248709": {
      "model_module": "@jupyter-widgets/base",
      "model_module_version": "2.0.0",
      "model_name": "LayoutModel",
      "state": {
       "_model_module": "@jupyter-widgets/base",
       "_model_module_version": "2.0.0",
       "_model_name": "LayoutModel",
       "_view_count": null,
       "_view_module": "@jupyter-widgets/base",
       "_view_module_version": "2.0.0",
       "_view_name": "LayoutView",
       "align_content": null,
       "align_items": null,
       "align_self": null,
       "border_bottom": null,
       "border_left": null,
       "border_right": null,
       "border_top": null,
       "bottom": null,
       "display": null,
       "flex": null,
       "flex_flow": null,
       "grid_area": null,
       "grid_auto_columns": null,
       "grid_auto_flow": null,
       "grid_auto_rows": null,
       "grid_column": null,
       "grid_gap": null,
       "grid_row": null,
       "grid_template_areas": null,
       "grid_template_columns": null,
       "grid_template_rows": null,
       "height": null,
       "justify_content": null,
       "justify_items": null,
       "left": null,
       "margin": null,
       "max_height": null,
       "max_width": null,
       "min_height": null,
       "min_width": null,
       "object_fit": null,
       "object_position": null,
       "order": null,
       "overflow": null,
       "padding": null,
       "right": null,
       "top": null,
       "visibility": null,
       "width": null
      }
     },
     "4b416872aa424abc991a95823e074a9e": {
      "model_module": "@jupyter-widgets/controls",
      "model_module_version": "2.0.0",
      "model_name": "IntSliderModel",
      "state": {
       "_dom_classes": [],
       "_model_module": "@jupyter-widgets/controls",
       "_model_module_version": "2.0.0",
       "_model_name": "IntSliderModel",
       "_view_count": null,
       "_view_module": "@jupyter-widgets/controls",
       "_view_module_version": "2.0.0",
       "_view_name": "IntSliderView",
       "behavior": "drag-tap",
       "continuous_update": true,
       "description": "Frequency",
       "description_allow_html": false,
       "disabled": false,
       "layout": "IPY_MODEL_8ba9d7e530e044f8bdc898d576f7f8cb",
       "max": 86,
       "min": 0,
       "orientation": "horizontal",
       "readout": true,
       "readout_format": "d",
       "step": 1,
       "style": "IPY_MODEL_cd935e020baf4c43810fdd5a5b6d7ae0",
       "tabbable": null,
       "tooltip": null,
       "value": 43
      }
     },
     "68fc8816af934e5699512617a1ab0ee9": {
      "model_module": "@jupyter-widgets/controls",
      "model_module_version": "2.0.0",
      "model_name": "IntSliderModel",
      "state": {
       "_dom_classes": [],
       "_model_module": "@jupyter-widgets/controls",
       "_model_module_version": "2.0.0",
       "_model_name": "IntSliderModel",
       "_view_count": null,
       "_view_module": "@jupyter-widgets/controls",
       "_view_module_version": "2.0.0",
       "_view_name": "IntSliderView",
       "behavior": "drag-tap",
       "continuous_update": true,
       "description": "DC_Offset",
       "description_allow_html": false,
       "disabled": false,
       "layout": "IPY_MODEL_039d9fc4799a4ef9bad66be31fafc0be",
       "max": 63,
       "min": 0,
       "orientation": "horizontal",
       "readout": true,
       "readout_format": "d",
       "step": 1,
       "style": "IPY_MODEL_cffa96326baf4c95a00b5dabaa1d481c",
       "tabbable": null,
       "tooltip": null,
       "value": 31
      }
     },
     "8ba9d7e530e044f8bdc898d576f7f8cb": {
      "model_module": "@jupyter-widgets/base",
      "model_module_version": "2.0.0",
      "model_name": "LayoutModel",
      "state": {
       "_model_module": "@jupyter-widgets/base",
       "_model_module_version": "2.0.0",
       "_model_name": "LayoutModel",
       "_view_count": null,
       "_view_module": "@jupyter-widgets/base",
       "_view_module_version": "2.0.0",
       "_view_name": "LayoutView",
       "align_content": null,
       "align_items": null,
       "align_self": null,
       "border_bottom": null,
       "border_left": null,
       "border_right": null,
       "border_top": null,
       "bottom": null,
       "display": null,
       "flex": null,
       "flex_flow": null,
       "grid_area": null,
       "grid_auto_columns": null,
       "grid_auto_flow": null,
       "grid_auto_rows": null,
       "grid_column": null,
       "grid_gap": null,
       "grid_row": null,
       "grid_template_areas": null,
       "grid_template_columns": null,
       "grid_template_rows": null,
       "height": null,
       "justify_content": null,
       "justify_items": null,
       "left": null,
       "margin": null,
       "max_height": null,
       "max_width": null,
       "min_height": null,
       "min_width": null,
       "object_fit": null,
       "object_position": null,
       "order": null,
       "overflow": null,
       "padding": null,
       "right": null,
       "top": null,
       "visibility": null,
       "width": null
      }
     },
     "af1db0827ac14eaaab41b96728dd33a8": {
      "model_module": "@jupyter-widgets/controls",
      "model_module_version": "2.0.0",
      "model_name": "IntSliderModel",
      "state": {
       "_dom_classes": [],
       "_model_module": "@jupyter-widgets/controls",
       "_model_module_version": "2.0.0",
       "_model_name": "IntSliderModel",
       "_view_count": null,
       "_view_module": "@jupyter-widgets/controls",
       "_view_module_version": "2.0.0",
       "_view_name": "IntSliderView",
       "behavior": "drag-tap",
       "continuous_update": true,
       "description": "X",
       "description_allow_html": false,
       "disabled": false,
       "layout": "IPY_MODEL_ee15856fe5444b78a913a467f3658f03",
       "max": 4,
       "min": 0,
       "orientation": "horizontal",
       "readout": true,
       "readout_format": "d",
       "step": 1,
       "style": "IPY_MODEL_2dbdad5b018f4c34975d0bfe4649118d",
       "tabbable": null,
       "tooltip": null,
       "value": 2
      }
     },
     "ba137601461341f8aab35fc612fcc36b": {
      "model_module": "@jupyter-widgets/output",
      "model_module_version": "1.0.0",
      "model_name": "OutputModel",
      "state": {
       "_dom_classes": [],
       "_model_module": "@jupyter-widgets/output",
       "_model_module_version": "1.0.0",
       "_model_name": "OutputModel",
       "_view_count": null,
       "_view_module": "@jupyter-widgets/output",
       "_view_module_version": "1.0.0",
       "_view_name": "OutputView",
       "layout": "IPY_MODEL_0a0c405d956749299b73962184ddc8a9",
       "msg_id": "",
       "outputs": [
        {
         "ename": "RuntimeError",
         "evalue": "x must be a sequence",
         "output_type": "error",
         "traceback": [
          "\u001b[0;31m---------------------------------------------------------------------------\u001b[0m",
          "\u001b[0;31mRuntimeError\u001b[0m                              Traceback (most recent call last)",
          "File \u001b[0;32m/opt/hostedtoolcache/Python/3.9.21/x64/lib/python3.9/site-packages/ipywidgets/widgets/interaction.py:243\u001b[0m, in \u001b[0;36minteractive.update\u001b[0;34m(self, *args)\u001b[0m\n\u001b[1;32m    241\u001b[0m     value \u001b[38;5;241m=\u001b[39m widget\u001b[38;5;241m.\u001b[39mget_interact_value()\n\u001b[1;32m    242\u001b[0m     \u001b[38;5;28mself\u001b[39m\u001b[38;5;241m.\u001b[39mkwargs[widget\u001b[38;5;241m.\u001b[39m_kwarg] \u001b[38;5;241m=\u001b[39m value\n\u001b[0;32m--> 243\u001b[0m \u001b[38;5;28mself\u001b[39m\u001b[38;5;241m.\u001b[39mresult \u001b[38;5;241m=\u001b[39m \u001b[38;5;28;43mself\u001b[39;49m\u001b[38;5;241;43m.\u001b[39;49m\u001b[43mf\u001b[49m\u001b[43m(\u001b[49m\u001b[38;5;241;43m*\u001b[39;49m\u001b[38;5;241;43m*\u001b[39;49m\u001b[38;5;28;43mself\u001b[39;49m\u001b[38;5;241;43m.\u001b[39;49m\u001b[43mkwargs\u001b[49m\u001b[43m)\u001b[49m\n\u001b[1;32m    244\u001b[0m show_inline_matplotlib_plots()\n\u001b[1;32m    245\u001b[0m \u001b[38;5;28;01mif\u001b[39;00m \u001b[38;5;28mself\u001b[39m\u001b[38;5;241m.\u001b[39mauto_display \u001b[38;5;129;01mand\u001b[39;00m \u001b[38;5;28mself\u001b[39m\u001b[38;5;241m.\u001b[39mresult \u001b[38;5;129;01mis\u001b[39;00m \u001b[38;5;129;01mnot\u001b[39;00m \u001b[38;5;28;01mNone\u001b[39;00m:\n",
          "File \u001b[0;32m/opt/hostedtoolcache/Python/3.9.21/x64/lib/python3.9/site-packages/sidpy/viz/jupyter_utils.py:341\u001b[0m, in \u001b[0;36msimple_ndim_visualizer.<locals>.update_plots\u001b[0;34m(**kwargs)\u001b[0m\n\u001b[1;32m    338\u001b[0m     axes[\u001b[38;5;241m1\u001b[39m]\u001b[38;5;241m.\u001b[39mset_title(\u001b[38;5;124m'\u001b[39m\u001b[38;5;124mSpectrogram for\u001b[39m\u001b[38;5;130;01m\\n\u001b[39;00m\u001b[38;5;124m'\u001b[39m \u001b[38;5;241m+\u001b[39m global_vars[\u001b[38;5;124m'\u001b[39m\u001b[38;5;124mcomponent_title\u001b[39m\u001b[38;5;124m'\u001b[39m] \u001b[38;5;241m+\u001b[39m \u001b[38;5;124m'\u001b[39m\u001b[38;5;130;01m\\n\u001b[39;00m\u001b[38;5;124m'\u001b[39m \u001b[38;5;241m+\u001b[39m pos_titles,\n\u001b[1;32m    339\u001b[0m                       fontsize\u001b[38;5;241m=\u001b[39msubtitle_fontsize)\n\u001b[1;32m    340\u001b[0m     \u001b[38;5;28;01mif\u001b[39;00m pos_plot_2d:\n\u001b[0;32m--> 341\u001b[0m         \u001b[43mmain_vert_line\u001b[49m\u001b[38;5;241;43m.\u001b[39;49m\u001b[43mset_xdata\u001b[49m\u001b[43m(\u001b[49m\u001b[43mspgram_slicing\u001b[49m\u001b[43m[\u001b[49m\u001b[43mpos_dims\u001b[49m\u001b[43m[\u001b[49m\u001b[38;5;241;43m1\u001b[39;49m\u001b[43m]\u001b[49m\u001b[38;5;241;43m.\u001b[39;49m\u001b[43mname\u001b[49m\u001b[43m]\u001b[49m\u001b[43m)\u001b[49m\n\u001b[1;32m    342\u001b[0m         main_hor_line\u001b[38;5;241m.\u001b[39mset_ydata(spgram_slicing[pos_dims[\u001b[38;5;241m0\u001b[39m]\u001b[38;5;241m.\u001b[39mname])\n\u001b[1;32m    344\u001b[0m update_spatmap \u001b[38;5;241m=\u001b[39m \u001b[38;5;28;01mFalse\u001b[39;00m\n",
          "File \u001b[0;32m/opt/hostedtoolcache/Python/3.9.21/x64/lib/python3.9/site-packages/matplotlib/lines.py:1289\u001b[0m, in \u001b[0;36mLine2D.set_xdata\u001b[0;34m(self, x)\u001b[0m\n\u001b[1;32m   1276\u001b[0m \u001b[38;5;250m\u001b[39m\u001b[38;5;124;03m\"\"\"\u001b[39;00m\n\u001b[1;32m   1277\u001b[0m \u001b[38;5;124;03mSet the data array for x.\u001b[39;00m\n\u001b[1;32m   1278\u001b[0m \n\u001b[0;32m   (...)\u001b[0m\n\u001b[1;32m   1286\u001b[0m \u001b[38;5;124;03mset_ydata\u001b[39;00m\n\u001b[1;32m   1287\u001b[0m \u001b[38;5;124;03m\"\"\"\u001b[39;00m\n\u001b[1;32m   1288\u001b[0m \u001b[38;5;28;01mif\u001b[39;00m \u001b[38;5;129;01mnot\u001b[39;00m np\u001b[38;5;241m.\u001b[39miterable(x):\n\u001b[0;32m-> 1289\u001b[0m     \u001b[38;5;28;01mraise\u001b[39;00m \u001b[38;5;167;01mRuntimeError\u001b[39;00m(\u001b[38;5;124m'\u001b[39m\u001b[38;5;124mx must be a sequence\u001b[39m\u001b[38;5;124m'\u001b[39m)\n\u001b[1;32m   1290\u001b[0m \u001b[38;5;28mself\u001b[39m\u001b[38;5;241m.\u001b[39m_xorig \u001b[38;5;241m=\u001b[39m copy\u001b[38;5;241m.\u001b[39mcopy(x)\n\u001b[1;32m   1291\u001b[0m \u001b[38;5;28mself\u001b[39m\u001b[38;5;241m.\u001b[39m_invalidx \u001b[38;5;241m=\u001b[39m \u001b[38;5;28;01mTrue\u001b[39;00m\n",
          "\u001b[0;31mRuntimeError\u001b[0m: x must be a sequence"
         ]
        }
       ],
       "tabbable": null,
       "tooltip": null
      }
     },
     "c1cd87e97aa54bb2a935746ab4ceefbb": {
      "model_module": "@jupyter-widgets/controls",
      "model_module_version": "2.0.0",
      "model_name": "SliderStyleModel",
      "state": {
       "_model_module": "@jupyter-widgets/controls",
       "_model_module_version": "2.0.0",
       "_model_name": "SliderStyleModel",
       "_view_count": null,
       "_view_module": "@jupyter-widgets/base",
       "_view_module_version": "2.0.0",
       "_view_name": "StyleView",
       "description_width": "",
       "handle_color": null
      }
     },
     "cd935e020baf4c43810fdd5a5b6d7ae0": {
      "model_module": "@jupyter-widgets/controls",
      "model_module_version": "2.0.0",
      "model_name": "SliderStyleModel",
      "state": {
       "_model_module": "@jupyter-widgets/controls",
       "_model_module_version": "2.0.0",
       "_model_name": "SliderStyleModel",
       "_view_count": null,
       "_view_module": "@jupyter-widgets/base",
       "_view_module_version": "2.0.0",
       "_view_name": "StyleView",
       "description_width": "",
       "handle_color": null
      }
     },
     "cef4b1d636ee4aa39f29e343b57f9de5": {
      "model_module": "@jupyter-widgets/controls",
      "model_module_version": "2.0.0",
      "model_name": "VBoxModel",
      "state": {
       "_dom_classes": [
        "widget-interact"
       ],
       "_model_module": "@jupyter-widgets/controls",
       "_model_module_version": "2.0.0",
       "_model_name": "VBoxModel",
       "_view_count": null,
       "_view_module": "@jupyter-widgets/controls",
       "_view_module_version": "2.0.0",
       "_view_name": "VBoxView",
       "box_style": "",
       "children": [
        "IPY_MODEL_af1db0827ac14eaaab41b96728dd33a8",
        "IPY_MODEL_d940fb65393a43489b4070c1540d677d",
        "IPY_MODEL_4b416872aa424abc991a95823e074a9e",
        "IPY_MODEL_68fc8816af934e5699512617a1ab0ee9",
        "IPY_MODEL_306b6f832efc439e81085617022092bf",
        "IPY_MODEL_ba137601461341f8aab35fc612fcc36b"
       ],
       "layout": "IPY_MODEL_1595f8d4065240e78a5abbdc35fb5d97",
       "tabbable": null,
       "tooltip": null
      }
     },
     "cffa96326baf4c95a00b5dabaa1d481c": {
      "model_module": "@jupyter-widgets/controls",
      "model_module_version": "2.0.0",
      "model_name": "SliderStyleModel",
      "state": {
       "_model_module": "@jupyter-widgets/controls",
       "_model_module_version": "2.0.0",
       "_model_name": "SliderStyleModel",
       "_view_count": null,
       "_view_module": "@jupyter-widgets/base",
       "_view_module_version": "2.0.0",
       "_view_name": "StyleView",
       "description_width": "",
       "handle_color": null
      }
     },
     "d940fb65393a43489b4070c1540d677d": {
      "model_module": "@jupyter-widgets/controls",
      "model_module_version": "2.0.0",
      "model_name": "IntSliderModel",
      "state": {
       "_dom_classes": [],
       "_model_module": "@jupyter-widgets/controls",
       "_model_module_version": "2.0.0",
       "_model_name": "IntSliderModel",
       "_view_count": null,
       "_view_module": "@jupyter-widgets/controls",
       "_view_module_version": "2.0.0",
       "_view_name": "IntSliderView",
       "behavior": "drag-tap",
       "continuous_update": true,
       "description": "Y",
       "description_allow_html": false,
       "disabled": false,
       "layout": "IPY_MODEL_31b211ec83804a67b615252777b237ce",
       "max": 4,
       "min": 0,
       "orientation": "horizontal",
       "readout": true,
       "readout_format": "d",
       "step": 1,
       "style": "IPY_MODEL_c1cd87e97aa54bb2a935746ab4ceefbb",
       "tabbable": null,
       "tooltip": null,
       "value": 2
      }
     },
     "ee15856fe5444b78a913a467f3658f03": {
      "model_module": "@jupyter-widgets/base",
      "model_module_version": "2.0.0",
      "model_name": "LayoutModel",
      "state": {
       "_model_module": "@jupyter-widgets/base",
       "_model_module_version": "2.0.0",
       "_model_name": "LayoutModel",
       "_view_count": null,
       "_view_module": "@jupyter-widgets/base",
       "_view_module_version": "2.0.0",
       "_view_name": "LayoutView",
       "align_content": null,
       "align_items": null,
       "align_self": null,
       "border_bottom": null,
       "border_left": null,
       "border_right": null,
       "border_top": null,
       "bottom": null,
       "display": null,
       "flex": null,
       "flex_flow": null,
       "grid_area": null,
       "grid_auto_columns": null,
       "grid_auto_flow": null,
       "grid_auto_rows": null,
       "grid_column": null,
       "grid_gap": null,
       "grid_row": null,
       "grid_template_areas": null,
       "grid_template_columns": null,
       "grid_template_rows": null,
       "height": null,
       "justify_content": null,
       "justify_items": null,
       "left": null,
       "margin": null,
       "max_height": null,
       "max_width": null,
       "min_height": null,
       "min_width": null,
       "object_fit": null,
       "object_position": null,
       "order": null,
       "overflow": null,
       "padding": null,
       "right": null,
       "top": null,
       "visibility": null,
       "width": null
      }
     }
    },
    "version_major": 2,
    "version_minor": 0
   }
  }
 },
 "nbformat": 4,
 "nbformat_minor": 1
}
